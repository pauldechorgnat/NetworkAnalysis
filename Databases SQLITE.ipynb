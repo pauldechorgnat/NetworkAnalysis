{
 "cells": [
  {
   "cell_type": "code",
   "execution_count": 1,
   "metadata": {
    "collapsed": true
   },
   "outputs": [],
   "source": [
    "import sqlalchemy\n",
    "import pandas as pd"
   ]
  },
  {
   "cell_type": "code",
   "execution_count": 2,
   "metadata": {},
   "outputs": [
    {
     "name": "stdout",
     "output_type": "stream",
     "text": [
      "['1. Paolo', 'Backup_data', 'bigdata_algo.db', 'BigData_Lab2-Install.pdf', 'Calendrier des trimestres 17-18 - data.pdf', 'ENG ESSEC IRENE_MSc in DS BA  CERGY ENG_Team building 2017.pdf', 'trump_tweets.txt', 'trump_tweets_author.txt']\n"
     ]
    }
   ],
   "source": [
    "path = \"C:/Users/Marie/Desktop/MSc DSBA/3. Big Data Algorithms and Platforms\"\n",
    "from os import listdir\n",
    "print(listdir(path))"
   ]
  },
  {
   "cell_type": "code",
   "execution_count": 3,
   "metadata": {
    "collapsed": true
   },
   "outputs": [],
   "source": [
    "engine = sqlalchemy.create_engine(\"sqlite:///\"+ path + \"/bigdata_algo.db\")"
   ]
  },
  {
   "cell_type": "code",
   "execution_count": 4,
   "metadata": {
    "collapsed": true
   },
   "outputs": [],
   "source": [
    "from sqlalchemy.ext.declarative import declarative_base\n",
    "Base = declarative_base()"
   ]
  },
  {
   "cell_type": "code",
   "execution_count": 5,
   "metadata": {
    "collapsed": true
   },
   "outputs": [],
   "source": [
    "from sqlalchemy import Column, Integer, Float, Date, CHAR\n",
    "from datetime import datetime\n",
    "from sqlalchemy import Column, Integer, Float, Date\n",
    "from sqlalchemy.orm import sessionmaker\n",
    "\n",
    "class Tweet(Base):\n",
    "    #Tell SQLAlchemy what the table name is and if there's any table-specific arguments it should know about\n",
    "    __tablename__ = 'Tweet'\n",
    "    __table_args__ = {'sqlite_autoincrement': True}\n",
    "    #tell SQLAlchemy the name of column and its attributes:\n",
    "    tweet_id = Column(Integer, primary_key=True, nullable=False) \n",
    "    tweet_user_id = Column(Integer)\n",
    "    tweet_creation_date = Column(Date)\n",
    "    tweet_text = Column(CHAR)\n",
    "    \n",
    "class User(Base):\n",
    "    #Tell SQLAlchemy what the table name is and if there's any table-specific arguments it should know about\n",
    "    __tablename__ = 'User'\n",
    "    __table_args__ = {'sqlite_autoincrement': True}\n",
    "    #tell SQLAlchemy the name of column and its attributes:\n",
    "    user_id = Column(Integer, primary_key=True, nullable=False) \n",
    "    user_num_followers = Column(Integer)\n",
    "    user_num_friends = Column(Integer)\n",
    "    user_creation_date = Column(Date)\n",
    "    "
   ]
  },
  {
   "cell_type": "code",
   "execution_count": 6,
   "metadata": {
    "collapsed": true
   },
   "outputs": [],
   "source": [
    "Base.metadata.create_all(engine)"
   ]
  },
  {
   "cell_type": "code",
   "execution_count": 7,
   "metadata": {
    "collapsed": true
   },
   "outputs": [],
   "source": [
    "session = sessionmaker()\n",
    "session.configure(bind=engine)\n",
    "s = session()"
   ]
  },
  {
   "cell_type": "code",
   "execution_count": 8,
   "metadata": {
    "collapsed": true
   },
   "outputs": [],
   "source": [
    "path = r'C:\\Users\\Marie\\Desktop\\MSc DSBA\\3. Big Data Algorithms and Platforms'"
   ]
  },
  {
   "cell_type": "raw",
   "metadata": {},
   "source": [
    "def load_tweet_data(path):\n",
    "    data = []\n",
    "    instances = 0\n",
    "    \n",
    "    with open(path, 'r', encoding = 'utf-8') as f:\n",
    "        reader = f.readlines()\n",
    "        for row in reader:\n",
    "            if instances ==0:\n",
    "                instances+=1\n",
    "                continue\n",
    "            else :\n",
    "                row_split = row.split(',')\n",
    "                try :\n",
    "                    data.append({'tweet_creation_date' : datetime.strptime(row_split[2], '%Y-%m-%d %H:%M:%S'),\n",
    "                                 'tweet_id' : row_split[0],\n",
    "                                 'tweet_user_id' : row_split[1],\n",
    "                                 'tweet_text' : ','.join(row_split[3:])})\n",
    "                    instances +=1\n",
    "                except ValueError:\n",
    "                    continue\n",
    "                except IndexError:\n",
    "                    continue\n",
    "    f.close()\n",
    "    return data, instances"
   ]
  },
  {
   "cell_type": "raw",
   "metadata": {},
   "source": [
    "def load_user_data(path):\n",
    "    data = []\n",
    "    instances = 0\n",
    "    \n",
    "    with open(path, 'r', encoding = 'utf-8') as f:\n",
    "        reader = f.readlines()\n",
    "        for row in reader:\n",
    "            if instances ==0:\n",
    "                instances+=1\n",
    "                continue\n",
    "            else :\n",
    "                row_split = row.replace('\\n', '').split(',')\n",
    "                #print(row_split)\n",
    "                try :\n",
    "                    if len(row_split)>=4:\n",
    "                        data.append({'user_id' : int(row_split[0]),\n",
    "                                     'user_num_followers' : int(row_split[1]),\n",
    "                                     'user_num_friends' : int(row_split[2]),\n",
    "                                     'user_creation_date' : datetime.strptime(row_split[3], '%Y-%m-%d %H:%M:%S')})\n",
    "                        instances +=1\n",
    "                except ValueError as e:\n",
    "                    data.append(e)\n",
    "                    continue\n",
    "                except IndexError as e:\n",
    "                    # print(e)\n",
    "                    continue\n",
    "    f.close()\n",
    "    return data, instances\n",
    "data_tweet, instances_tweet = load_tweet_data(path + r'\\trump_tweets.txt')\n",
    "data_user, instances_user = load_user_data(path + r'\\trump_tweets_author.txt')"
   ]
  },
  {
   "cell_type": "code",
   "execution_count": 9,
   "metadata": {},
   "outputs": [
    {
     "data": {
      "text/html": [
       "<div>\n",
       "<style>\n",
       "    .dataframe thead tr:only-child th {\n",
       "        text-align: right;\n",
       "    }\n",
       "\n",
       "    .dataframe thead th {\n",
       "        text-align: left;\n",
       "    }\n",
       "\n",
       "    .dataframe tbody tr th {\n",
       "        vertical-align: top;\n",
       "    }\n",
       "</style>\n",
       "<table border=\"1\" class=\"dataframe\">\n",
       "  <thead>\n",
       "    <tr style=\"text-align: right;\">\n",
       "      <th></th>\n",
       "      <th>tweet_id</th>\n",
       "      <th>tweet_user_id</th>\n",
       "      <th>tweet_creation_date</th>\n",
       "      <th>tweet_text</th>\n",
       "    </tr>\n",
       "  </thead>\n",
       "  <tbody>\n",
       "    <tr>\n",
       "      <th>0</th>\n",
       "      <td>933354508645748736</td>\n",
       "      <td>765213068</td>\n",
       "      <td>2017-11-22 15:20:30</td>\n",
       "      <td>RT @baileyjer: The National Enquirer is embara...</td>\n",
       "    </tr>\n",
       "    <tr>\n",
       "      <th>1</th>\n",
       "      <td>933354508972834816</td>\n",
       "      <td>1100048125</td>\n",
       "      <td>2017-11-22 15:20:30</td>\n",
       "      <td>RT @ChrisCJackson: Lincoln: \"Four score and se...</td>\n",
       "    </tr>\n",
       "    <tr>\n",
       "      <th>2</th>\n",
       "      <td>933354509253869573</td>\n",
       "      <td>20072329</td>\n",
       "      <td>2017-11-22 15:20:30</td>\n",
       "      <td>RT @EdKrassen: There is no point in having an ...</td>\n",
       "    </tr>\n",
       "    <tr>\n",
       "      <th>3</th>\n",
       "      <td>933354509425930243</td>\n",
       "      <td>251138148</td>\n",
       "      <td>2017-11-22 15:20:30</td>\n",
       "      <td>RT @lil_swingin_D: Donald trump calling lavar ...</td>\n",
       "    </tr>\n",
       "    <tr>\n",
       "      <th>4</th>\n",
       "      <td>933354509266546688</td>\n",
       "      <td>3884065459</td>\n",
       "      <td>2017-11-22 15:20:30</td>\n",
       "      <td>RT @NancySinatra: Ignorance is bliss. I'm disa...</td>\n",
       "    </tr>\n",
       "  </tbody>\n",
       "</table>\n",
       "</div>"
      ],
      "text/plain": [
       "             tweet_id  tweet_user_id  tweet_creation_date  \\\n",
       "0  933354508645748736      765213068  2017-11-22 15:20:30   \n",
       "1  933354508972834816     1100048125  2017-11-22 15:20:30   \n",
       "2  933354509253869573       20072329  2017-11-22 15:20:30   \n",
       "3  933354509425930243      251138148  2017-11-22 15:20:30   \n",
       "4  933354509266546688     3884065459  2017-11-22 15:20:30   \n",
       "\n",
       "                                          tweet_text  \n",
       "0  RT @baileyjer: The National Enquirer is embara...  \n",
       "1  RT @ChrisCJackson: Lincoln: \"Four score and se...  \n",
       "2  RT @EdKrassen: There is no point in having an ...  \n",
       "3  RT @lil_swingin_D: Donald trump calling lavar ...  \n",
       "4  RT @NancySinatra: Ignorance is bliss. I'm disa...  "
      ]
     },
     "execution_count": 9,
     "metadata": {},
     "output_type": "execute_result"
    }
   ],
   "source": [
    "file_name_tweet = path + r'\\trump_tweets.txt'\n",
    "df_tweet = pd.read_csv(file_name_tweet, names = ['tweet_id', 'tweet_user_id', 'tweet_creation_date', 'tweet_text'])\n",
    "df_tweet.head()"
   ]
  },
  {
   "cell_type": "code",
   "execution_count": 10,
   "metadata": {},
   "outputs": [],
   "source": [
    "df_tweet.to_sql(con=engine, index = False, name=Tweet.__tablename__, if_exists='replace')"
   ]
  },
  {
   "cell_type": "code",
   "execution_count": 11,
   "metadata": {},
   "outputs": [
    {
     "data": {
      "text/html": [
       "<div>\n",
       "<style>\n",
       "    .dataframe thead tr:only-child th {\n",
       "        text-align: right;\n",
       "    }\n",
       "\n",
       "    .dataframe thead th {\n",
       "        text-align: left;\n",
       "    }\n",
       "\n",
       "    .dataframe tbody tr th {\n",
       "        vertical-align: top;\n",
       "    }\n",
       "</style>\n",
       "<table border=\"1\" class=\"dataframe\">\n",
       "  <thead>\n",
       "    <tr style=\"text-align: right;\">\n",
       "      <th></th>\n",
       "      <th>user_id</th>\n",
       "      <th>user_num_followers</th>\n",
       "      <th>user_num_friends</th>\n",
       "      <th>user_creation_date</th>\n",
       "    </tr>\n",
       "  </thead>\n",
       "  <tbody>\n",
       "    <tr>\n",
       "      <th>0</th>\n",
       "      <td>933354508645748736</td>\n",
       "      <td>765213068</td>\n",
       "      <td>2017-11-22 15:20:30</td>\n",
       "      <td>RT @baileyjer: The National Enquirer is embara...</td>\n",
       "    </tr>\n",
       "    <tr>\n",
       "      <th>1</th>\n",
       "      <td>933354508972834816</td>\n",
       "      <td>1100048125</td>\n",
       "      <td>2017-11-22 15:20:30</td>\n",
       "      <td>RT @ChrisCJackson: Lincoln: \"Four score and se...</td>\n",
       "    </tr>\n",
       "    <tr>\n",
       "      <th>2</th>\n",
       "      <td>933354509253869573</td>\n",
       "      <td>20072329</td>\n",
       "      <td>2017-11-22 15:20:30</td>\n",
       "      <td>RT @EdKrassen: There is no point in having an ...</td>\n",
       "    </tr>\n",
       "    <tr>\n",
       "      <th>3</th>\n",
       "      <td>933354509425930243</td>\n",
       "      <td>251138148</td>\n",
       "      <td>2017-11-22 15:20:30</td>\n",
       "      <td>RT @lil_swingin_D: Donald trump calling lavar ...</td>\n",
       "    </tr>\n",
       "    <tr>\n",
       "      <th>4</th>\n",
       "      <td>933354509266546688</td>\n",
       "      <td>3884065459</td>\n",
       "      <td>2017-11-22 15:20:30</td>\n",
       "      <td>RT @NancySinatra: Ignorance is bliss. I'm disa...</td>\n",
       "    </tr>\n",
       "  </tbody>\n",
       "</table>\n",
       "</div>"
      ],
      "text/plain": [
       "              user_id  user_num_followers     user_num_friends  \\\n",
       "0  933354508645748736           765213068  2017-11-22 15:20:30   \n",
       "1  933354508972834816          1100048125  2017-11-22 15:20:30   \n",
       "2  933354509253869573            20072329  2017-11-22 15:20:30   \n",
       "3  933354509425930243           251138148  2017-11-22 15:20:30   \n",
       "4  933354509266546688          3884065459  2017-11-22 15:20:30   \n",
       "\n",
       "                                  user_creation_date  \n",
       "0  RT @baileyjer: The National Enquirer is embara...  \n",
       "1  RT @ChrisCJackson: Lincoln: \"Four score and se...  \n",
       "2  RT @EdKrassen: There is no point in having an ...  \n",
       "3  RT @lil_swingin_D: Donald trump calling lavar ...  \n",
       "4  RT @NancySinatra: Ignorance is bliss. I'm disa...  "
      ]
     },
     "execution_count": 11,
     "metadata": {},
     "output_type": "execute_result"
    }
   ],
   "source": [
    "file_name_user = path + r'\\trump_tweets.txt'\n",
    "df_user = pd.read_csv(file_name_tweet, names = ['user_id', 'user_num_followers', 'user_num_friends', 'user_creation_date'])\n",
    "df_user.head()"
   ]
  },
  {
   "cell_type": "code",
   "execution_count": 12,
   "metadata": {},
   "outputs": [],
   "source": [
    "df_user.to_sql(con=engine, index = False, name=User.__tablename__, if_exists='replace')"
   ]
  },
  {
   "cell_type": "code",
   "execution_count": 13,
   "metadata": {},
   "outputs": [
    {
     "name": "stdout",
     "output_type": "stream",
     "text": [
      "(1873,)\n"
     ]
    }
   ],
   "source": [
    "connection = engine.connect()\n",
    "result = connection.execute('select count(distinct tweet_user_id) from tweet')\n",
    "for row in result:\n",
    "    print(row)\n",
    "connection.close()"
   ]
  },
  {
   "cell_type": "code",
   "execution_count": 16,
   "metadata": {},
   "outputs": [
    {
     "name": "stdout",
     "output_type": "stream",
     "text": [
      "(1996,)\n"
     ]
    }
   ],
   "source": [
    "connection = engine.connect()\n",
    "result = connection.execute('select count(distinct user_id) from user')\n",
    "for row in result:\n",
    "    print(row)\n",
    "connection.close()"
   ]
  },
  {
   "cell_type": "code",
   "execution_count": null,
   "metadata": {},
   "outputs": [],
   "source": []
  },
  {
   "cell_type": "code",
   "execution_count": null,
   "metadata": {},
   "outputs": [],
   "source": []
  },
  {
   "cell_type": "code",
   "execution_count": null,
   "metadata": {
    "collapsed": true
   },
   "outputs": [],
   "source": []
  }
 ],
 "metadata": {
  "kernelspec": {
   "display_name": "Python 3",
   "language": "python",
   "name": "python3"
  },
  "language_info": {
   "codemirror_mode": {
    "name": "ipython",
    "version": 3
   },
   "file_extension": ".py",
   "mimetype": "text/x-python",
   "name": "python",
   "nbconvert_exporter": "python",
   "pygments_lexer": "ipython3",
   "version": "3.6.3"
  }
 },
 "nbformat": 4,
 "nbformat_minor": 2
}
