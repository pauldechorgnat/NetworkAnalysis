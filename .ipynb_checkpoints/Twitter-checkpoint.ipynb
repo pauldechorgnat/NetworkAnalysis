{
 "cells": [
  {
   "cell_type": "code",
   "execution_count": 1,
   "metadata": {
    "collapsed": true
   },
   "outputs": [],
   "source": [
    "#Import the necessary methods from tweepy library\n",
    "from tweepy.streaming import StreamListener\n",
    "from tweepy import OAuthHandler\n",
    "from tweepy import Stream\n",
    "import tweepy\n",
    "# importing csv writers\n",
    "import csv\n",
    "# importing pandas\n",
    "import pandas as pd\n",
    "import sys"
   ]
  },
  {
   "cell_type": "code",
   "execution_count": 2,
   "metadata": {
    "collapsed": true
   },
   "outputs": [],
   "source": [
    "consumer_key = ''\n",
    "consumer_secret = ''\n",
    "access_token = ''\n",
    "access_token_secret = ''"
   ]
  },
  {
   "cell_type": "code",
   "execution_count": 3,
   "metadata": {
    "collapsed": true
   },
   "outputs": [],
   "source": [
    "auth = OAuthHandler(consumer_key, consumer_secret)\n",
    "auth.set_access_token(access_token, access_token_secret)"
   ]
  },
  {
   "cell_type": "code",
   "execution_count": 7,
   "metadata": {
    "collapsed": true
   },
   "outputs": [],
   "source": [
    "path = 'C:/Users/Marie/Desktop/MSc DSBA/3. Big Data Algorithms and Platforms/'\n",
    "\n",
    "class CustomStreamListener(tweepy.StreamListener):\n",
    "    \n",
    "    def __init__(self, count = None, verbose = 1, \n",
    "                 path_tweet = path + 'scraping.csv', \n",
    "                 path_author = path +'scraping_author.csv',\n",
    "                 parent = None):\n",
    "        super(CustomStreamListener, self).__init__(parent)\n",
    "        self.count = count\n",
    "        self.verbose = verbose\n",
    "        self.path_tweet = path_tweet\n",
    "        self.path_author = path_author\n",
    "        \n",
    "    def on_status(self, status):\n",
    "        \n",
    "        if self.verbose ==1:\n",
    "            print(status.author.screen_name,'|', status.created_at,'|', status.text)\n",
    "        else :\n",
    "            if self.verbose ==2:\n",
    "                print(self.count)\n",
    "                \n",
    "        # getting author id\n",
    "        author_id = status.author.id\n",
    "        \n",
    "        #Writing status data\n",
    "        with open(self.path_tweet, 'a', encoding='utf-8') as f:\n",
    "            writer = csv.writer(f)\n",
    "            writer.writerow([status.id, status.author.id, status.created_at, status.text])\n",
    "            # tweet (idTweet bigint,text text,date date,iduser bigint)\n",
    "        \n",
    "        with open(self.path_author, 'a', encoding='utf-8') as f:\n",
    "            writer = csv.writer(f)\n",
    "            writer.writerow([status.author.id, \n",
    "                             status.author.followers_count, \n",
    "                             status.author.friends_count, \n",
    "                             status.author.created_at])\n",
    "            # user(iduser bigint, numFollowers int, numFriends int, createdAt date)\n",
    "        \n",
    "        \n",
    "        if self.count != None:\n",
    "            self.count -=1\n",
    "            \n",
    "            if self.count == 0:\n",
    "                return False\n",
    "            \n",
    "    def on_error(self, status_code):\n",
    "        print('Encountered error with status code:', status_code)\n",
    "        return True # Don't kill the stream"
   ]
  },
  {
   "cell_type": "code",
   "execution_count": 8,
   "metadata": {
    "collapsed": true
   },
   "outputs": [],
   "source": [
    "with open(path + 'trump_tweets2.txt', 'w', encoding='utf-8') as f:\n",
    "            writer = csv.writer(f)\n",
    "            writer.writerow(['tweet_id', 'user_id', 'tweet_date', 'text'])\n",
    "with open(path + 'trump_tweets_author2.txt', 'w', encoding='utf-8') as f:\n",
    "            writer = csv.writer(f)\n",
    "            writer.writerow(['user_id', 'num_followers', 'num_friends', 'created_date'])"
   ]
  },
  {
   "cell_type": "code",
   "execution_count": 9,
   "metadata": {
    "collapsed": true,
    "scrolled": false
   },
   "outputs": [],
   "source": [
    "listener = CustomStreamListener(count = 1000, verbose = 0, \n",
    "                                path_tweet=path + 'trump_tweets.txt',\n",
    "                                path_author = path + 'trump_tweets_author.txt')\n",
    "\n",
    "streamingAPI = tweepy.streaming.Stream(auth, listener)\n",
    "streamingAPI.filter(track=['trump'])"
   ]
  },
  {
   "cell_type": "code",
   "execution_count": null,
   "metadata": {
    "collapsed": true,
    "scrolled": false
   },
   "outputs": [],
   "source": []
  },
  {
   "cell_type": "code",
   "execution_count": null,
   "metadata": {
    "collapsed": true
   },
   "outputs": [],
   "source": []
  },
  {
   "cell_type": "code",
   "execution_count": null,
   "metadata": {
    "collapsed": true
   },
   "outputs": [],
   "source": []
  },
  {
   "cell_type": "code",
   "execution_count": null,
   "metadata": {
    "collapsed": true
   },
   "outputs": [],
   "source": []
  },
  {
   "cell_type": "code",
   "execution_count": null,
   "metadata": {
    "collapsed": true
   },
   "outputs": [],
   "source": []
  },
  {
   "cell_type": "code",
   "execution_count": null,
   "metadata": {
    "collapsed": true
   },
   "outputs": [],
   "source": []
  },
  {
   "cell_type": "code",
   "execution_count": null,
   "metadata": {
    "collapsed": true
   },
   "outputs": [],
   "source": []
  }
 ],
 "metadata": {
  "kernelspec": {
   "display_name": "Python 3",
   "language": "python",
   "name": "python3"
  },
  "language_info": {
   "codemirror_mode": {
    "name": "ipython",
    "version": 3
   },
   "file_extension": ".py",
   "mimetype": "text/x-python",
   "name": "python",
   "nbconvert_exporter": "python",
   "pygments_lexer": "ipython3",
   "version": "3.6.3"
  }
 },
 "nbformat": 4,
 "nbformat_minor": 2
}
